{
 "cells": [
  {
   "cell_type": "code",
   "execution_count": 1,
   "metadata": {
    "collapsed": false,
    "deletable": true,
    "editable": true
   },
   "outputs": [],
   "source": [
    "import pandas as pd\n",
    "import difflib"
   ]
  },
  {
   "cell_type": "code",
   "execution_count": 50,
   "metadata": {
    "collapsed": false,
    "deletable": true,
    "editable": true
   },
   "outputs": [],
   "source": [
    "data = pd.read_csv('TEST__dump_parsed.tsv', sep='\\t')"
   ]
  },
  {
   "cell_type": "code",
   "execution_count": 102,
   "metadata": {
    "collapsed": false,
    "deletable": true,
    "editable": true
   },
   "outputs": [],
   "source": [
    "test_data = data[data.title == data.title.unique()[0]]\n",
    "# test_data = CleanTextData.clean_and_filter(test_data,text_col='text')"
   ]
  },
  {
   "cell_type": "code",
   "execution_count": 116,
   "metadata": {
    "collapsed": true,
    "deletable": true,
    "editable": true
   },
   "outputs": [],
   "source": [
    "import CleanTextData\n",
    "def clean_text(text):\n",
    "    try:\n",
    "        text = CleanTextData.remove_date(text)\n",
    "        text = CleanTextData.substitute_patterns(text, CleanTextData.pre_sub_patterns)\n",
    "        text = CleanTextData.strip_mw(text)\n",
    "        text = CleanTextData.strip_html(text)\n",
    "        text = CleanTextData.substitute_patterns(text, CleanTextData.post_sub_patterns)\n",
    "    except TypeError:\n",
    "        # the string is empty\n",
    "        text = ''\n",
    "        \n",
    "    return text\n",
    "\n",
    "def diff_clean_text(data):\n",
    "    Differ = difflib.Differ()\n",
    "    ADDED = []\n",
    "    ADDED_bytes = []\n",
    "    DELETED = []\n",
    "    DELETED_bytes = []\n",
    "    for row in data.iterrows():\n",
    "        idx = row[0]\n",
    "        content = row[1]\n",
    "        assert 'title' in content.keys()\n",
    "        assert 'text' in content.keys()\n",
    "\n",
    "        title = content['title']\n",
    "        cleaned_text = clean_text(content['text'])\n",
    "\n",
    "\n",
    "        try:\n",
    "            if(title == title_prev):\n",
    "                diff = list(Differ.compare(\n",
    "                            cleaned_text_prev.split(), \n",
    "                            cleaned_text.split()\n",
    "                            ))\n",
    "\n",
    "                add_words = []\n",
    "                del_words = []\n",
    "                for d in diff:\n",
    "                    if(d[0] == '+'):\n",
    "                        add_words.append(d[2:])\n",
    "                    elif(d[0] == '-'):\n",
    "                        del_words.append(d[2:])\n",
    "                added = ' '.join(add_words)\n",
    "                deleted = ' '.join(del_words)\n",
    "\n",
    "            else:\n",
    "                # at the beginning of new page\n",
    "                added = cleaned_text\n",
    "                deleted = ''\n",
    "\n",
    "        except NameError:\n",
    "            # at the beginning of the file\n",
    "            added = cleaned_text\n",
    "            deleted = ''\n",
    "\n",
    "        ADDED.append(added)\n",
    "        ADDED_bytes.append(len(added))\n",
    "        DELETED.append(deleted)\n",
    "        DELETED_bytes.append(len(deleted))\n",
    "\n",
    "        title_prev = title\n",
    "        cleaned_text_prev = cleaned_text\n",
    "        \n",
    "    data['Added'] = ADDED\n",
    "    data['Added_Bytes'] = ADDED_bytes\n",
    "    data['Deleted'] = DELETED\n",
    "    data['Deleted_Bytes'] = DELETED_bytes\n",
    "    \n",
    "    return data\n"
   ]
  },
  {
   "cell_type": "code",
   "execution_count": 117,
   "metadata": {
    "collapsed": false,
    "deletable": true,
    "editable": true
   },
   "outputs": [
    {
     "name": "stdout",
     "output_type": "stream",
     "text": [
      "CPU times: user 16min 21s, sys: 172 ms, total: 16min 22s\n",
      "Wall time: 16min 21s\n"
     ]
    }
   ],
   "source": [
    "%time new_data = diff_clean_text(data)"
   ]
  },
  {
   "cell_type": "code",
   "execution_count": 150,
   "metadata": {
    "collapsed": false,
    "deletable": true,
    "editable": true
   },
   "outputs": [
    {
     "name": "stdout",
     "output_type": "stream",
     "text": [
      "  Is this article a stub?\n",
      "  \n",
      "  \n",
      "  \n",
      "  \n",
      "  Optical disc can be loaded with tray or slot-in thingymabob.\n",
      "+ \n",
      "+ In my Computer Information Systems class we were told that there are two types of optical disks, the CD and the DVD. Now I'm reading this article and I'm like what the hell? Not that I trust my class over wikipedia. Obviously. [[User:Erik E.|Erik E.]] 02:20, 13 February 2007 (UTC)\n"
     ]
    }
   ],
   "source": [
    "test_idx = 1111\n",
    "print('\\n'.join(Differ.compare(\n",
    "            new_data.text[test_idx - 1].splitlines(), \n",
    "            new_data.text[test_idx].splitlines()\n",
    "       )))"
   ]
  },
  {
   "cell_type": "code",
   "execution_count": 152,
   "metadata": {
    "collapsed": false,
    "deletable": true,
    "editable": true
   },
   "outputs": [
    {
     "name": "stdout",
     "output_type": "stream",
     "text": [
      "ADDED\n",
      " In my Computer Information Systems class we were told that there are two types of optical disks, the CD and the DVD. Now I'm reading this article and I'm like what the hell? Not that I trust my class over wikipedia. Obviously.\n",
      "\n",
      "DELETED\n",
      " \n"
     ]
    }
   ],
   "source": [
    "print('ADDED\\n', new_data.Added[test_idx])\n",
    "print('\\nDELETED\\n', new_data.Deleted[test_idx])"
   ]
  },
  {
   "cell_type": "code",
   "execution_count": 84,
   "metadata": {
    "collapsed": false,
    "deletable": true,
    "editable": true
   },
   "outputs": [],
   "source": []
  },
  {
   "cell_type": "code",
   "execution_count": null,
   "metadata": {
    "collapsed": false,
    "deletable": true,
    "editable": true
   },
   "outputs": [],
   "source": []
  },
  {
   "cell_type": "code",
   "execution_count": null,
   "metadata": {
    "collapsed": true,
    "deletable": true,
    "editable": true
   },
   "outputs": [],
   "source": []
  }
 ],
 "metadata": {
  "kernelspec": {
   "display_name": "Python 3",
   "language": "python",
   "name": "python3"
  },
  "language_info": {
   "codemirror_mode": {
    "name": "ipython",
    "version": 3
   },
   "file_extension": ".py",
   "mimetype": "text/x-python",
   "name": "python",
   "nbconvert_exporter": "python",
   "pygments_lexer": "ipython3",
   "version": "3.5.2"
  }
 },
 "nbformat": 4,
 "nbformat_minor": 2
}
