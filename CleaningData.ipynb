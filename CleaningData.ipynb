{
 "cells": [
  {
   "cell_type": "markdown",
   "metadata": {
    "collapsed": false,
    "deletable": true,
    "editable": true
   },
   "source": [
    "# Testing Cleaning Data"
   ]
  },
  {
   "cell_type": "code",
   "execution_count": null,
   "metadata": {
    "collapsed": true
   },
   "outputs": [],
   "source": [
    "from bs4 import BeautifulSoup\n",
    "import sys\n",
    "import mwparserfromhell\n",
    "import re\n",
    "import pandas as pd\n",
    "import copy\n",
    "import time\n",
    "import pandas as pd"
   ]
  },
  {
   "cell_type": "code",
   "execution_count": 2,
   "metadata": {
    "collapsed": false,
    "deletable": true,
    "editable": true
   },
   "outputs": [],
   "source": [
    "sys.path.append('./ClonedModel/wmModel/wiki-detox/src/data_generation/diff_utils.py')\n",
    "import diff_utils"
   ]
  },
  {
   "cell_type": "markdown",
   "metadata": {
    "deletable": true,
    "editable": true
   },
   "source": [
    "### Cleaning Data\n",
    "**Step 1** taking difference of texts  \n",
    "**Step 2** using WikiMedia's `diff_utils` to clean texts\n"
   ]
  },
  {
   "cell_type": "code",
   "execution_count": 203,
   "metadata": {
    "collapsed": false,
    "deletable": true,
    "editable": true
   },
   "outputs": [],
   "source": [
    "def diff_and_clean(data):\n",
    "    ''' taking the diff and clean the text column'''\n",
    "    \n",
    "    titles = data.title.unique()\n",
    "    for title in titles:\n",
    "        data_subset = data[data.title == title]\n",
    "\n",
    "        text_new = data_subset.text[1:]\n",
    "        text_old = data_subset.text[:-1]\n",
    "        text_diff = [data_subset.text.iloc[0]]\n",
    "\n",
    "        for [new,old] in zip(text_new,text_old):\n",
    "            text_diff.append(new.replace(old,''))\n",
    "        # the diff_utils function requires a column named \"insertion\n",
    "        data.loc[data.title==title,'insertion'] = text_diff\n",
    "    data = diff_utils.clean_and_filter(data)\n",
    "    return data\n",
    "\n",
    "\n",
    "def clean_and_diff(data):\n",
    "    ''' \n",
    "    Inverse the order of taking diff and clean\n",
    "    but experimentally it has no effect\n",
    "    '''\n",
    "    \n",
    "    data['insertion'] = data['text']\n",
    "    data = diff_utils.clean_and_filter(data)\n",
    "    \n",
    "    titles = data.title.unique()\n",
    "    for title in titles:\n",
    "        data_subset = data[data.title == title]\n",
    "\n",
    "        text_new = data_subset.clean_diff[1:]\n",
    "        text_old = data_subset.clean_diff[:-1]\n",
    "        text_diff = [data_subset.clean_diff.iloc[0]]\n",
    "\n",
    "        for [new,old] in zip(text_new,text_old):\n",
    "            text_diff.append(new.replace(old,''))\n",
    "\n",
    "        data.loc[data.title==title,'clean_diff'] = text_diff\n",
    "    \n",
    "    return data"
   ]
  },
  {
   "cell_type": "markdown",
   "metadata": {
    "collapsed": false,
    "deletable": true,
    "editable": true
   },
   "source": [
    "## Demo"
   ]
  },
  {
   "cell_type": "code",
   "execution_count": 202,
   "metadata": {
    "collapsed": false,
    "deletable": true,
    "editable": true
   },
   "outputs": [],
   "source": [
    "test_data = pd.read_csv('parsed.csv', sep='\\t', nrows = 100)\n",
    "test_data = diff_and_clean(test_data)"
   ]
  },
  {
   "cell_type": "code",
   "execution_count": 200,
   "metadata": {
    "collapsed": false,
    "deletable": true,
    "editable": true
   },
   "outputs": [
    {
     "name": "stdout",
     "output_type": "stream",
     "text": [
      "\t\t\toriginal\n",
      "\n",
      " == Wrong Name ==\n",
      "\n",
      "The act is actually the Indians Arts and Crafts Act of 1990. There's a redirect page from the proper name to this page, but it seems more appropriate to move this page to reflect the name of the actual act. \n",
      "\n",
      "I removed the WikiProject India template, since that's obviously misplaced.\n",
      "-[[User:Uyvsdi|Uyvsdi]] ([[User talk:Uyvsdi|talk]]) 00:57, 25 March 2009 (UTC)Uyvsdi\n",
      "\n",
      "==Tipis included in the law?==\n",
      "Does anybody know if [[tipi|tipis / teepees / tepes]] are part of this law?  I counted at least 58 tipi manufacturers in the United States and only about five(?) claimed to be Native. Dinkytown 23:18, 19 April 2009 (UTC)\n",
      "::No. Anyone can make a tipi; just like anyone is welcome to paint a painting. The only time the law gets involved (it's totally unenforced/unenforceable anyway) is when an artist claims to be Native American but isn't enrolled or can't document their tribal heritage (with a CDIB card). -[[User:Uyvsdi|Uyvsdi]] ([[User talk:Uyvsdi|talk]]) 23:35, 19 April 2009 (UTC)Uyvsdi\n",
      "\n",
      "==True name of the Act==\n",
      "It is actually Chapter 7A, Title 25 of the U.S. Code, aka \"Indian Arts and Crafts Act\".  Its definitions in Section 309.2 clearly refer to ''federally-recognized'' Indians ''only''. [[User:Natty4bumpo|Chuck Hamilton]] ([[User talk:Natty4bumpo|talk]]) 22:27, 23 May 2009 (UTC)\n",
      "\n",
      "\n",
      "\n",
      "\t\t\tdiff\n",
      "\n",
      " \n",
      "\n",
      "==True name of the Act==\n",
      "It is actually Chapter 7A, Title 25 of the U.S. Code, aka \"Indian Arts and Crafts Act\".  Its definitions in Section 309.2 clearly refer to ''federally-recognized'' Indians ''only''. [[User:Natty4bumpo|Chuck Hamilton]] ([[User talk:Natty4bumpo|talk]]) 22:27, 23 May 2009 (UTC)\n",
      "\n",
      "\n",
      "\n",
      "\t\t\tcleaned\n",
      "\n",
      " True name of the Act\n",
      "It is actually Chapter 7A, Title 25 of the U.S. Code, aka \"Indian Arts and Crafts Act\".  Its definitions in Section 309.2 clearly refer to federally-recognized Indians only.   \n"
     ]
    }
   ],
   "source": [
    "demo_idx = 53\n",
    "original_text = test_data.loc[:,'text'][demo_idx]\n",
    "diff_text = test_data.loc[:,'diff'][demo_idx]\n",
    "clean_text = test_data.loc[:,'clean_diff'][demo_idx]\n",
    "print('\\t\\t\\toriginal\\n\\n %s\\n\\n\\n'%original_text)\n",
    "print('\\t\\t\\tdiff\\n\\n %s\\n\\n\\n'%diff_text)\n",
    "print('\\t\\t\\tcleaned\\n\\n %s'%clean_text)"
   ]
  }
 ],
 "metadata": {
  "kernelspec": {
   "display_name": "Python 3",
   "language": "python",
   "name": "python3"
  },
  "language_info": {
   "codemirror_mode": {
    "name": "ipython",
    "version": 3
   },
   "file_extension": ".py",
   "mimetype": "text/x-python",
   "name": "python",
   "nbconvert_exporter": "python",
   "pygments_lexer": "ipython3",
   "version": "3.5.2"
  }
 },
 "nbformat": 4,
 "nbformat_minor": 2
}
